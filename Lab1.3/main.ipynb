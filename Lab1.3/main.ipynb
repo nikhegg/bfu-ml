{
 "cells": [
  {
   "cell_type": "code",
   "execution_count": 7,
   "id": "6a259927",
   "metadata": {},
   "outputs": [],
   "source": [
    "import pandas as pd\n",
    "from sklearn.metrics import mean_absolute_error, mean_absolute_percentage_error, r2_score"
   ]
  },
  {
   "cell_type": "code",
   "execution_count": 8,
   "id": "4fede153",
   "metadata": {},
   "outputs": [],
   "source": [
    "dataset = pd.read_csv(\"student_scores.csv\")"
   ]
  },
  {
   "cell_type": "code",
   "execution_count": 9,
   "id": "3d18cc39",
   "metadata": {},
   "outputs": [],
   "source": [
    "X = dataset.iloc[:, :-1].values\n",
    "y = dataset.iloc[:, 1].values"
   ]
  },
  {
   "cell_type": "code",
   "execution_count": 14,
   "id": "3e2eaa13",
   "metadata": {},
   "outputs": [],
   "source": [
    "from sklearn.model_selection import train_test_split\n",
    "X_train, X_test, y_train, y_test = train_test_split(X, y, test_size=0.2, random_state=0)"
   ]
  },
  {
   "cell_type": "code",
   "execution_count": 15,
   "id": "be3c2985",
   "metadata": {},
   "outputs": [],
   "source": [
    "from sklearn.linear_model import LinearRegression \n",
    "lr = LinearRegression() \n",
    "lr.fit(X_train, y_train)\n",
    "y_pred = lr.predict(X_test)"
   ]
  },
  {
   "cell_type": "code",
   "execution_count": 16,
   "id": "3b1cc5a0",
   "metadata": {},
   "outputs": [
    {
     "name": "stdout",
     "output_type": "stream",
     "text": [
      "MAE: 4.183859899002975\n",
      "R2: 0.9454906892105355\n",
      "MAPE: 0.12568891617045658\n"
     ]
    }
   ],
   "source": [
    "print(f\"MAE: {mean_absolute_error(y_test, y_pred)}\")\n",
    "print(f\"R2: {r2_score(y_test, y_pred)}\")\n",
    "print(f\"MAPE: {mean_absolute_percentage_error(y_test, y_pred)}\")"
   ]
  },
  {
   "cell_type": "markdown",
   "id": "d799be05",
   "metadata": {},
   "source": [
    "Модель имеет неплохую точность, так как признак 'Hours' хорошо коррелирует с таргетом"
   ]
  },
  {
   "cell_type": "code",
   "execution_count": 17,
   "id": "1057281d",
   "metadata": {},
   "outputs": [],
   "source": [
    "from sklearn import datasets\n",
    "diabetes = datasets.load_diabetes()\n",
    "df = pd.DataFrame(diabetes.data, columns = diabetes.feature_names)\n",
    "df['target'] = diabetes.target"
   ]
  },
  {
   "cell_type": "code",
   "execution_count": 18,
   "id": "0402ef4b",
   "metadata": {},
   "outputs": [],
   "source": [
    "X = df[\"bmi\"].values.reshape(-1, 1)\n",
    "y = df[\"target\"].values\n",
    "X_train, X_test, y_train, y_test = train_test_split(X, y, test_size=0.2, random_state=0)"
   ]
  },
  {
   "cell_type": "code",
   "execution_count": 19,
   "id": "60fc9e4c",
   "metadata": {},
   "outputs": [],
   "source": [
    "lr = LinearRegression()\n",
    "lr.fit(X_train, y_train)\n",
    "y_pred = lr.predict(X_test)"
   ]
  },
  {
   "cell_type": "code",
   "execution_count": 20,
   "id": "1d96ab00",
   "metadata": {},
   "outputs": [
    {
     "name": "stdout",
     "output_type": "stream",
     "text": [
      "MAE: 52.94370285288119\n",
      "R2: 0.19057346847560142\n",
      "MAPE: 0.4516904624956549\n"
     ]
    }
   ],
   "source": [
    "print(f\"MAE: {mean_absolute_error(y_test, y_pred)}\")\n",
    "print(f\"R2: {r2_score(y_test, y_pred)}\")\n",
    "print(f\"MAPE: {mean_absolute_percentage_error(y_test, y_pred)}\")"
   ]
  },
  {
   "cell_type": "markdown",
   "id": "54d16fec",
   "metadata": {},
   "source": [
    "В этом случае у модели плохая точность. Связано это со слабой зависимостью признака bmi от таргета"
   ]
  }
 ],
 "metadata": {
  "kernelspec": {
   "display_name": "Python 3",
   "language": "python",
   "name": "python3"
  },
  "language_info": {
   "codemirror_mode": {
    "name": "ipython",
    "version": 3
   },
   "file_extension": ".py",
   "mimetype": "text/x-python",
   "name": "python",
   "nbconvert_exporter": "python",
   "pygments_lexer": "ipython3",
   "version": "3.10.6"
  }
 },
 "nbformat": 4,
 "nbformat_minor": 5
}
